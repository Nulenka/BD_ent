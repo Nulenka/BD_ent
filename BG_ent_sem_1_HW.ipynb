{
  "nbformat": 4,
  "nbformat_minor": 0,
  "metadata": {
    "colab": {
      "provenance": [],
      "gpuType": "T4"
    },
    "kernelspec": {
      "name": "python3",
      "display_name": "Python 3"
    },
    "language_info": {
      "name": "python"
    },
    "accelerator": "GPU"
  },
  "cells": [
    {
      "cell_type": "code",
      "execution_count": 55,
      "metadata": {
        "colab": {
          "base_uri": "https://localhost:8080/"
        },
        "id": "bzRkPFSv5sNb",
        "outputId": "cec9b952-4bfc-41a7-afdb-cc3d91aae961"
      },
      "outputs": [
        {
          "output_type": "stream",
          "name": "stdout",
          "text": [
            "--2023-11-17 15:24:21--  http://=/\n",
            "Resolving = (=)... failed: Name or service not known.\n",
            "wget: unable to resolve host address ‘=’\n",
            "--2023-11-17 15:24:21--  http://q/\n",
            "Resolving q (q)... failed: Name or service not known.\n",
            "wget: unable to resolve host address ‘q’\n",
            "--2023-11-17 15:24:21--  https://gbcdn.mrgcdn.ru/uploads/asset/5669369/attachment/8d87d92d70004b56a3efbe60485c3e4d.ipynb\n",
            "Resolving gbcdn.mrgcdn.ru (gbcdn.mrgcdn.ru)... 5.181.61.0\n",
            "Connecting to gbcdn.mrgcdn.ru (gbcdn.mrgcdn.ru)|5.181.61.0|:443... connected.\n",
            "HTTP request sent, awaiting response... 200 OK\n",
            "Length: 496677 (485K) [application/json]\n",
            "Saving to: ‘8d87d92d70004b56a3efbe60485c3e4d.ipynb.1’\n",
            "\n",
            "8d87d92d70004b56a3e 100%[===================>] 485.04K   871KB/s    in 0.6s    \n",
            "\n",
            "2023-11-17 15:24:22 (871 KB/s) - ‘8d87d92d70004b56a3efbe60485c3e4d.ipynb.1’ saved [496677/496677]\n",
            "\n",
            "FINISHED --2023-11-17 15:24:22--\n",
            "Total wall clock time: 1.6s\n",
            "Downloaded: 1 files, 485K in 0.6s (871 KB/s)\n"
          ]
        }
      ],
      "source": [
        "!wget = q https://gbcdn.mrgcdn.ru/uploads/asset/5669369/attachment/8d87d92d70004b56a3efbe60485c3e4d.ipynb"
      ]
    },
    {
      "cell_type": "code",
      "source": [
        "!pip install opendatasets"
      ],
      "metadata": {
        "colab": {
          "base_uri": "https://localhost:8080/"
        },
        "id": "tV2pAFmS82Gj",
        "outputId": "8a37b655-ec5c-46ed-a8d2-9865f8d0cb86"
      },
      "execution_count": 56,
      "outputs": [
        {
          "output_type": "stream",
          "name": "stdout",
          "text": [
            "Requirement already satisfied: opendatasets in /usr/local/lib/python3.10/dist-packages (0.1.22)\n",
            "Requirement already satisfied: tqdm in /usr/local/lib/python3.10/dist-packages (from opendatasets) (4.66.1)\n",
            "Requirement already satisfied: kaggle in /usr/local/lib/python3.10/dist-packages (from opendatasets) (1.5.16)\n",
            "Requirement already satisfied: click in /usr/local/lib/python3.10/dist-packages (from opendatasets) (8.1.7)\n",
            "Requirement already satisfied: six>=1.10 in /usr/local/lib/python3.10/dist-packages (from kaggle->opendatasets) (1.16.0)\n",
            "Requirement already satisfied: certifi in /usr/local/lib/python3.10/dist-packages (from kaggle->opendatasets) (2023.7.22)\n",
            "Requirement already satisfied: python-dateutil in /usr/local/lib/python3.10/dist-packages (from kaggle->opendatasets) (2.8.2)\n",
            "Requirement already satisfied: requests in /usr/local/lib/python3.10/dist-packages (from kaggle->opendatasets) (2.31.0)\n",
            "Requirement already satisfied: python-slugify in /usr/local/lib/python3.10/dist-packages (from kaggle->opendatasets) (8.0.1)\n",
            "Requirement already satisfied: urllib3 in /usr/local/lib/python3.10/dist-packages (from kaggle->opendatasets) (2.0.7)\n",
            "Requirement already satisfied: bleach in /usr/local/lib/python3.10/dist-packages (from kaggle->opendatasets) (6.1.0)\n",
            "Requirement already satisfied: webencodings in /usr/local/lib/python3.10/dist-packages (from bleach->kaggle->opendatasets) (0.5.1)\n",
            "Requirement already satisfied: text-unidecode>=1.3 in /usr/local/lib/python3.10/dist-packages (from python-slugify->kaggle->opendatasets) (1.3)\n",
            "Requirement already satisfied: charset-normalizer<4,>=2 in /usr/local/lib/python3.10/dist-packages (from requests->kaggle->opendatasets) (3.3.2)\n",
            "Requirement already satisfied: idna<4,>=2.5 in /usr/local/lib/python3.10/dist-packages (from requests->kaggle->opendatasets) (3.4)\n"
          ]
        }
      ]
    },
    {
      "cell_type": "code",
      "source": [
        "import opendatasets as od"
      ],
      "metadata": {
        "id": "l8YLtgo88g60"
      },
      "execution_count": 57,
      "outputs": []
    },
    {
      "cell_type": "code",
      "source": [
        "import pandas as pd"
      ],
      "metadata": {
        "id": "Mbkjnu9h9AT_"
      },
      "execution_count": 58,
      "outputs": []
    },
    {
      "cell_type": "code",
      "source": [
        "import time"
      ],
      "metadata": {
        "id": "86uOV4m59DZu"
      },
      "execution_count": 59,
      "outputs": []
    },
    {
      "cell_type": "code",
      "source": [
        "from pathlib import Path"
      ],
      "metadata": {
        "id": "_yPZW-gN9G6h"
      },
      "execution_count": 60,
      "outputs": []
    },
    {
      "cell_type": "code",
      "source": [
        "dataset_path = Path('imdb-user-reviewa', 'song_lyrics.csv')\n",
        "if not dataset_path.is_file():\n",
        "  od.download('https://www.kaggle.com/datasets/sadmadlad/imdb-user-reviews')"
      ],
      "metadata": {
        "colab": {
          "base_uri": "https://localhost:8080/"
        },
        "id": "cxruQoLF-t5n",
        "outputId": "dd49e15e-318d-4543-ccd8-6e84d0cece42"
      },
      "execution_count": 61,
      "outputs": [
        {
          "output_type": "stream",
          "name": "stdout",
          "text": [
            "Skipping, found downloaded files in \"./imdb-user-reviews\" (use force=True to force download)\n"
          ]
        }
      ]
    },
    {
      "cell_type": "code",
      "source": [
        "df = pd.read_csv('/content/IMDB.csv')\n",
        "df.head()"
      ],
      "metadata": {
        "colab": {
          "base_uri": "https://localhost:8080/",
          "height": 380
        },
        "id": "5ePDLsfr-uAi",
        "outputId": "413529bc-2d71-4371-81a2-648487956364"
      },
      "execution_count": 62,
      "outputs": [
        {
          "output_type": "execute_result",
          "data": {
            "text/plain": [
              "                  Name       Year Episodes   Type  Rating  \\\n",
              "0      1. Breaking Bad  2008–2013   62 eps  TV-MA     9.5   \n",
              "1   2. Planet Earth II       2016    6 eps   TV-G     9.5   \n",
              "2      3. Planet Earth       2006   11 eps  TV-PG     9.4   \n",
              "3  4. Band of Brothers       2001   10 eps  TV-MA     9.4   \n",
              "4         5. Chernobyl       2019    5 eps  TV-MA     9.4   \n",
              "\n",
              "                                           Image-src  \\\n",
              "0  https://m.media-amazon.com/images/M/MV5BYmQ4YW...   \n",
              "1  https://m.media-amazon.com/images/M/MV5BMGZmYm...   \n",
              "2  https://m.media-amazon.com/images/M/MV5BMzMyYj...   \n",
              "3  https://m.media-amazon.com/images/M/MV5BMTI3OD...   \n",
              "4  https://m.media-amazon.com/images/M/MV5BNTdkN2...   \n",
              "\n",
              "                                         Description  \\\n",
              "0  A chemistry teacher diagnosed with inoperable ...   \n",
              "1  David Attenborough returns with a new wildlife...   \n",
              "2  A documentary series on the wildlife found on ...   \n",
              "3  The story of Easy Company of the U.S. Army 101...   \n",
              "4  In April 1986, an explosion at the Chernobyl n...   \n",
              "\n",
              "                                           Name-href  \n",
              "0  https://www.imdb.com/title/tt0903747/?ref_=cht...  \n",
              "1  https://www.imdb.com/title/tt5491994/?ref_=cht...  \n",
              "2  https://www.imdb.com/title/tt0795176/?ref_=cht...  \n",
              "3  https://www.imdb.com/title/tt0185906/?ref_=cht...  \n",
              "4  https://www.imdb.com/title/tt7366338/?ref_=cht...  "
            ],
            "text/html": [
              "\n",
              "  <div id=\"df-8241e6d7-ee39-4930-a6f8-da50eda81c84\" class=\"colab-df-container\">\n",
              "    <div>\n",
              "<style scoped>\n",
              "    .dataframe tbody tr th:only-of-type {\n",
              "        vertical-align: middle;\n",
              "    }\n",
              "\n",
              "    .dataframe tbody tr th {\n",
              "        vertical-align: top;\n",
              "    }\n",
              "\n",
              "    .dataframe thead th {\n",
              "        text-align: right;\n",
              "    }\n",
              "</style>\n",
              "<table border=\"1\" class=\"dataframe\">\n",
              "  <thead>\n",
              "    <tr style=\"text-align: right;\">\n",
              "      <th></th>\n",
              "      <th>Name</th>\n",
              "      <th>Year</th>\n",
              "      <th>Episodes</th>\n",
              "      <th>Type</th>\n",
              "      <th>Rating</th>\n",
              "      <th>Image-src</th>\n",
              "      <th>Description</th>\n",
              "      <th>Name-href</th>\n",
              "    </tr>\n",
              "  </thead>\n",
              "  <tbody>\n",
              "    <tr>\n",
              "      <th>0</th>\n",
              "      <td>1. Breaking Bad</td>\n",
              "      <td>2008–2013</td>\n",
              "      <td>62 eps</td>\n",
              "      <td>TV-MA</td>\n",
              "      <td>9.5</td>\n",
              "      <td>https://m.media-amazon.com/images/M/MV5BYmQ4YW...</td>\n",
              "      <td>A chemistry teacher diagnosed with inoperable ...</td>\n",
              "      <td>https://www.imdb.com/title/tt0903747/?ref_=cht...</td>\n",
              "    </tr>\n",
              "    <tr>\n",
              "      <th>1</th>\n",
              "      <td>2. Planet Earth II</td>\n",
              "      <td>2016</td>\n",
              "      <td>6 eps</td>\n",
              "      <td>TV-G</td>\n",
              "      <td>9.5</td>\n",
              "      <td>https://m.media-amazon.com/images/M/MV5BMGZmYm...</td>\n",
              "      <td>David Attenborough returns with a new wildlife...</td>\n",
              "      <td>https://www.imdb.com/title/tt5491994/?ref_=cht...</td>\n",
              "    </tr>\n",
              "    <tr>\n",
              "      <th>2</th>\n",
              "      <td>3. Planet Earth</td>\n",
              "      <td>2006</td>\n",
              "      <td>11 eps</td>\n",
              "      <td>TV-PG</td>\n",
              "      <td>9.4</td>\n",
              "      <td>https://m.media-amazon.com/images/M/MV5BMzMyYj...</td>\n",
              "      <td>A documentary series on the wildlife found on ...</td>\n",
              "      <td>https://www.imdb.com/title/tt0795176/?ref_=cht...</td>\n",
              "    </tr>\n",
              "    <tr>\n",
              "      <th>3</th>\n",
              "      <td>4. Band of Brothers</td>\n",
              "      <td>2001</td>\n",
              "      <td>10 eps</td>\n",
              "      <td>TV-MA</td>\n",
              "      <td>9.4</td>\n",
              "      <td>https://m.media-amazon.com/images/M/MV5BMTI3OD...</td>\n",
              "      <td>The story of Easy Company of the U.S. Army 101...</td>\n",
              "      <td>https://www.imdb.com/title/tt0185906/?ref_=cht...</td>\n",
              "    </tr>\n",
              "    <tr>\n",
              "      <th>4</th>\n",
              "      <td>5. Chernobyl</td>\n",
              "      <td>2019</td>\n",
              "      <td>5 eps</td>\n",
              "      <td>TV-MA</td>\n",
              "      <td>9.4</td>\n",
              "      <td>https://m.media-amazon.com/images/M/MV5BNTdkN2...</td>\n",
              "      <td>In April 1986, an explosion at the Chernobyl n...</td>\n",
              "      <td>https://www.imdb.com/title/tt7366338/?ref_=cht...</td>\n",
              "    </tr>\n",
              "  </tbody>\n",
              "</table>\n",
              "</div>\n",
              "    <div class=\"colab-df-buttons\">\n",
              "\n",
              "  <div class=\"colab-df-container\">\n",
              "    <button class=\"colab-df-convert\" onclick=\"convertToInteractive('df-8241e6d7-ee39-4930-a6f8-da50eda81c84')\"\n",
              "            title=\"Convert this dataframe to an interactive table.\"\n",
              "            style=\"display:none;\">\n",
              "\n",
              "  <svg xmlns=\"http://www.w3.org/2000/svg\" height=\"24px\" viewBox=\"0 -960 960 960\">\n",
              "    <path d=\"M120-120v-720h720v720H120Zm60-500h600v-160H180v160Zm220 220h160v-160H400v160Zm0 220h160v-160H400v160ZM180-400h160v-160H180v160Zm440 0h160v-160H620v160ZM180-180h160v-160H180v160Zm440 0h160v-160H620v160Z\"/>\n",
              "  </svg>\n",
              "    </button>\n",
              "\n",
              "  <style>\n",
              "    .colab-df-container {\n",
              "      display:flex;\n",
              "      gap: 12px;\n",
              "    }\n",
              "\n",
              "    .colab-df-convert {\n",
              "      background-color: #E8F0FE;\n",
              "      border: none;\n",
              "      border-radius: 50%;\n",
              "      cursor: pointer;\n",
              "      display: none;\n",
              "      fill: #1967D2;\n",
              "      height: 32px;\n",
              "      padding: 0 0 0 0;\n",
              "      width: 32px;\n",
              "    }\n",
              "\n",
              "    .colab-df-convert:hover {\n",
              "      background-color: #E2EBFA;\n",
              "      box-shadow: 0px 1px 2px rgba(60, 64, 67, 0.3), 0px 1px 3px 1px rgba(60, 64, 67, 0.15);\n",
              "      fill: #174EA6;\n",
              "    }\n",
              "\n",
              "    .colab-df-buttons div {\n",
              "      margin-bottom: 4px;\n",
              "    }\n",
              "\n",
              "    [theme=dark] .colab-df-convert {\n",
              "      background-color: #3B4455;\n",
              "      fill: #D2E3FC;\n",
              "    }\n",
              "\n",
              "    [theme=dark] .colab-df-convert:hover {\n",
              "      background-color: #434B5C;\n",
              "      box-shadow: 0px 1px 3px 1px rgba(0, 0, 0, 0.15);\n",
              "      filter: drop-shadow(0px 1px 2px rgba(0, 0, 0, 0.3));\n",
              "      fill: #FFFFFF;\n",
              "    }\n",
              "  </style>\n",
              "\n",
              "    <script>\n",
              "      const buttonEl =\n",
              "        document.querySelector('#df-8241e6d7-ee39-4930-a6f8-da50eda81c84 button.colab-df-convert');\n",
              "      buttonEl.style.display =\n",
              "        google.colab.kernel.accessAllowed ? 'block' : 'none';\n",
              "\n",
              "      async function convertToInteractive(key) {\n",
              "        const element = document.querySelector('#df-8241e6d7-ee39-4930-a6f8-da50eda81c84');\n",
              "        const dataTable =\n",
              "          await google.colab.kernel.invokeFunction('convertToInteractive',\n",
              "                                                    [key], {});\n",
              "        if (!dataTable) return;\n",
              "\n",
              "        const docLinkHtml = 'Like what you see? Visit the ' +\n",
              "          '<a target=\"_blank\" href=https://colab.research.google.com/notebooks/data_table.ipynb>data table notebook</a>'\n",
              "          + ' to learn more about interactive tables.';\n",
              "        element.innerHTML = '';\n",
              "        dataTable['output_type'] = 'display_data';\n",
              "        await google.colab.output.renderOutput(dataTable, element);\n",
              "        const docLink = document.createElement('div');\n",
              "        docLink.innerHTML = docLinkHtml;\n",
              "        element.appendChild(docLink);\n",
              "      }\n",
              "    </script>\n",
              "  </div>\n",
              "\n",
              "\n",
              "<div id=\"df-4e912c59-1cb5-42e7-b5db-450cbcba2b57\">\n",
              "  <button class=\"colab-df-quickchart\" onclick=\"quickchart('df-4e912c59-1cb5-42e7-b5db-450cbcba2b57')\"\n",
              "            title=\"Suggest charts\"\n",
              "            style=\"display:none;\">\n",
              "\n",
              "<svg xmlns=\"http://www.w3.org/2000/svg\" height=\"24px\"viewBox=\"0 0 24 24\"\n",
              "     width=\"24px\">\n",
              "    <g>\n",
              "        <path d=\"M19 3H5c-1.1 0-2 .9-2 2v14c0 1.1.9 2 2 2h14c1.1 0 2-.9 2-2V5c0-1.1-.9-2-2-2zM9 17H7v-7h2v7zm4 0h-2V7h2v10zm4 0h-2v-4h2v4z\"/>\n",
              "    </g>\n",
              "</svg>\n",
              "  </button>\n",
              "\n",
              "<style>\n",
              "  .colab-df-quickchart {\n",
              "      --bg-color: #E8F0FE;\n",
              "      --fill-color: #1967D2;\n",
              "      --hover-bg-color: #E2EBFA;\n",
              "      --hover-fill-color: #174EA6;\n",
              "      --disabled-fill-color: #AAA;\n",
              "      --disabled-bg-color: #DDD;\n",
              "  }\n",
              "\n",
              "  [theme=dark] .colab-df-quickchart {\n",
              "      --bg-color: #3B4455;\n",
              "      --fill-color: #D2E3FC;\n",
              "      --hover-bg-color: #434B5C;\n",
              "      --hover-fill-color: #FFFFFF;\n",
              "      --disabled-bg-color: #3B4455;\n",
              "      --disabled-fill-color: #666;\n",
              "  }\n",
              "\n",
              "  .colab-df-quickchart {\n",
              "    background-color: var(--bg-color);\n",
              "    border: none;\n",
              "    border-radius: 50%;\n",
              "    cursor: pointer;\n",
              "    display: none;\n",
              "    fill: var(--fill-color);\n",
              "    height: 32px;\n",
              "    padding: 0;\n",
              "    width: 32px;\n",
              "  }\n",
              "\n",
              "  .colab-df-quickchart:hover {\n",
              "    background-color: var(--hover-bg-color);\n",
              "    box-shadow: 0 1px 2px rgba(60, 64, 67, 0.3), 0 1px 3px 1px rgba(60, 64, 67, 0.15);\n",
              "    fill: var(--button-hover-fill-color);\n",
              "  }\n",
              "\n",
              "  .colab-df-quickchart-complete:disabled,\n",
              "  .colab-df-quickchart-complete:disabled:hover {\n",
              "    background-color: var(--disabled-bg-color);\n",
              "    fill: var(--disabled-fill-color);\n",
              "    box-shadow: none;\n",
              "  }\n",
              "\n",
              "  .colab-df-spinner {\n",
              "    border: 2px solid var(--fill-color);\n",
              "    border-color: transparent;\n",
              "    border-bottom-color: var(--fill-color);\n",
              "    animation:\n",
              "      spin 1s steps(1) infinite;\n",
              "  }\n",
              "\n",
              "  @keyframes spin {\n",
              "    0% {\n",
              "      border-color: transparent;\n",
              "      border-bottom-color: var(--fill-color);\n",
              "      border-left-color: var(--fill-color);\n",
              "    }\n",
              "    20% {\n",
              "      border-color: transparent;\n",
              "      border-left-color: var(--fill-color);\n",
              "      border-top-color: var(--fill-color);\n",
              "    }\n",
              "    30% {\n",
              "      border-color: transparent;\n",
              "      border-left-color: var(--fill-color);\n",
              "      border-top-color: var(--fill-color);\n",
              "      border-right-color: var(--fill-color);\n",
              "    }\n",
              "    40% {\n",
              "      border-color: transparent;\n",
              "      border-right-color: var(--fill-color);\n",
              "      border-top-color: var(--fill-color);\n",
              "    }\n",
              "    60% {\n",
              "      border-color: transparent;\n",
              "      border-right-color: var(--fill-color);\n",
              "    }\n",
              "    80% {\n",
              "      border-color: transparent;\n",
              "      border-right-color: var(--fill-color);\n",
              "      border-bottom-color: var(--fill-color);\n",
              "    }\n",
              "    90% {\n",
              "      border-color: transparent;\n",
              "      border-bottom-color: var(--fill-color);\n",
              "    }\n",
              "  }\n",
              "</style>\n",
              "\n",
              "  <script>\n",
              "    async function quickchart(key) {\n",
              "      const quickchartButtonEl =\n",
              "        document.querySelector('#' + key + ' button');\n",
              "      quickchartButtonEl.disabled = true;  // To prevent multiple clicks.\n",
              "      quickchartButtonEl.classList.add('colab-df-spinner');\n",
              "      try {\n",
              "        const charts = await google.colab.kernel.invokeFunction(\n",
              "            'suggestCharts', [key], {});\n",
              "      } catch (error) {\n",
              "        console.error('Error during call to suggestCharts:', error);\n",
              "      }\n",
              "      quickchartButtonEl.classList.remove('colab-df-spinner');\n",
              "      quickchartButtonEl.classList.add('colab-df-quickchart-complete');\n",
              "    }\n",
              "    (() => {\n",
              "      let quickchartButtonEl =\n",
              "        document.querySelector('#df-4e912c59-1cb5-42e7-b5db-450cbcba2b57 button');\n",
              "      quickchartButtonEl.style.display =\n",
              "        google.colab.kernel.accessAllowed ? 'block' : 'none';\n",
              "    })();\n",
              "  </script>\n",
              "</div>\n",
              "    </div>\n",
              "  </div>\n"
            ]
          },
          "metadata": {},
          "execution_count": 62
        }
      ]
    },
    {
      "cell_type": "code",
      "source": [
        "def find_longest_string(list_of_strings):\n",
        "    longest_string = None\n",
        "    longest_string_len = 0\n",
        "    for s in list_of_strings:\n",
        "        # оставляем только буквы\n",
        "        s = ''.join(x for x in s if x.isalpha())\n",
        "        s_len = len(s)\n",
        "        if s_len > longest_string_len:\n",
        "            longest_string_len = s_len\n",
        "            longest_string = s\n",
        "    return longest_string, longest_string_len"
      ],
      "metadata": {
        "id": "f1MzP4_qw4s-"
      },
      "execution_count": 63,
      "outputs": []
    },
    {
      "cell_type": "code",
      "source": [
        "list_of_strings = ['abc123', 'python', 'sasha2000']\n",
        "print(find_longest_string(list_of_strings))"
      ],
      "metadata": {
        "colab": {
          "base_uri": "https://localhost:8080/"
        },
        "id": "T2Hke20aw51Y",
        "outputId": "64e2c78e-1b2b-4463-e847-e44c21e2dad6"
      },
      "execution_count": 64,
      "outputs": [
        {
          "output_type": "stream",
          "name": "stdout",
          "text": [
            "('python', 6)\n"
          ]
        }
      ]
    },
    {
      "cell_type": "code",
      "source": [
        "large_list_of_strings = list_of_strings * 1_000_000"
      ],
      "metadata": {
        "id": "6woaqprhw_Jc"
      },
      "execution_count": 65,
      "outputs": []
    },
    {
      "cell_type": "code",
      "source": [
        "%time print(find_longest_string(large_list_of_strings))"
      ],
      "metadata": {
        "colab": {
          "base_uri": "https://localhost:8080/"
        },
        "id": "m9BFDX3FxJjO",
        "outputId": "db696485-8f07-4b8a-de52-7a9d6899d03a"
      },
      "execution_count": 66,
      "outputs": [
        {
          "output_type": "stream",
          "name": "stdout",
          "text": [
            "('python', 6)\n",
            "CPU times: user 3.4 s, sys: 14.6 ms, total: 3.41 s\n",
            "Wall time: 3.59 s\n"
          ]
        }
      ]
    },
    {
      "cell_type": "code",
      "source": [
        "from functools import reduce\n",
        "\n",
        "def chunkify(list_of_strings, number_of_chunks=30):\n",
        "    step = len(list_of_strings) // number_of_chunks\n",
        "    if step != 0:\n",
        "        for i in range(0, len(list_of_strings), step):\n",
        "            yield list_of_strings[i : i + step]\n",
        "    else:\n",
        "        yield list_of_strings\n",
        "\n",
        "def chunks_mapper(chunk):\n",
        "    return find_longest_string(chunk)\n",
        "\n",
        "def reducer(p, c):\n",
        "    if p[1] > c[1]:\n",
        "        return p\n",
        "    return c"
      ],
      "metadata": {
        "id": "A3WxxmGoxJnD"
      },
      "execution_count": 67,
      "outputs": []
    },
    {
      "cell_type": "code",
      "source": [
        "%%timeit\n",
        "data_chunks = chunkify(large_list_of_strings, number_of_chunks=1)\n",
        "\n",
        "mapped = map(chunks_mapper, data_chunks)\n",
        "reduced = reduce(reducer, mapped)\n",
        "print(reduced)"
      ],
      "metadata": {
        "colab": {
          "base_uri": "https://localhost:8080/"
        },
        "id": "g3UKXS6SxVNM",
        "outputId": "c71d7c7f-49dc-4475-c9b1-2b25571e0f6e"
      },
      "execution_count": 68,
      "outputs": [
        {
          "output_type": "stream",
          "name": "stdout",
          "text": [
            "('python', 6)\n",
            "('python', 6)\n",
            "('python', 6)\n",
            "('python', 6)\n",
            "('python', 6)\n",
            "('python', 6)\n",
            "('python', 6)\n",
            "('python', 6)\n",
            "4.22 s ± 2.29 s per loop (mean ± std. dev. of 7 runs, 1 loop each)\n"
          ]
        }
      ]
    },
    {
      "cell_type": "code",
      "source": [
        "from joblib import Parallel, delayed"
      ],
      "metadata": {
        "id": "QHexL15AxVQy"
      },
      "execution_count": 69,
      "outputs": []
    },
    {
      "cell_type": "code",
      "source": [
        "%%timeit\n",
        "data_chunks = chunkify(large_list_of_strings, number_of_chunks=2)\n",
        "\n",
        "mapped = Parallel(n_jobs=2)(delayed(chunks_mapper)(chunk) for chunk in data_chunks)\n",
        "reduced = reduce(reducer, mapped)"
      ],
      "metadata": {
        "colab": {
          "base_uri": "https://localhost:8080/"
        },
        "id": "2RVfmvQVxpAi",
        "outputId": "5e75e456-929b-4856-f5d2-6b72cbe3db16"
      },
      "execution_count": 70,
      "outputs": [
        {
          "output_type": "stream",
          "name": "stdout",
          "text": [
            "3.45 s ± 570 ms per loop (mean ± std. dev. of 7 runs, 1 loop each)\n"
          ]
        }
      ]
    },
    {
      "cell_type": "code",
      "source": [
        "mapper = len\n",
        "\n",
        "def chunks_mapper(chunk):\n",
        "    mapped_chunk = map(mapper, chunk)\n",
        "    mapped_chunk = zip(chunk, mapped_chunk)\n",
        "    return reduce(reducer, mapped_chunk)"
      ],
      "metadata": {
        "id": "mOKHMaYyxpD-"
      },
      "execution_count": 71,
      "outputs": []
    },
    {
      "cell_type": "code",
      "source": [
        "%%time\n",
        "data_chunks = chunkify(large_list_of_strings, number_of_chunks=1)\n",
        "\n",
        "mapped = map(chunks_mapper, data_chunks)\n",
        "reduced = reduce(reducer, mapped)\n",
        "print(reduced)"
      ],
      "metadata": {
        "colab": {
          "base_uri": "https://localhost:8080/"
        },
        "id": "XWpOBYvkxpON",
        "outputId": "882ef1d5-b3b6-4434-c7d3-65a2e4f08b3e"
      },
      "execution_count": 72,
      "outputs": [
        {
          "output_type": "stream",
          "name": "stdout",
          "text": [
            "('sasha2000', 9)\n",
            "CPU times: user 440 ms, sys: 1.06 ms, total: 441 ms\n",
            "Wall time: 442 ms\n"
          ]
        }
      ]
    },
    {
      "cell_type": "code",
      "source": [
        "%%time\n",
        "from multiprocessing import Pool\n",
        "\n",
        "data_chunks = chunkify(large_list_of_strings, number_of_chunks=2)\n",
        "with Pool(2) as p:\n",
        "    mapped = p.map(chunks_mapper, data_chunks)\n",
        "    reduced = reduce(reducer, mapped)"
      ],
      "metadata": {
        "colab": {
          "base_uri": "https://localhost:8080/"
        },
        "id": "eLv-d85UyRAN",
        "outputId": "2ba79e74-9b16-4622-d804-255c56bab3dc"
      },
      "execution_count": 73,
      "outputs": [
        {
          "output_type": "stream",
          "name": "stdout",
          "text": [
            "CPU times: user 126 ms, sys: 47.2 ms, total: 173 ms\n",
            "Wall time: 676 ms\n"
          ]
        }
      ]
    },
    {
      "cell_type": "code",
      "source": [
        "%%time\n",
        "# либо так:\n",
        "data_chunks = chunkify(large_list_of_strings, number_of_chunks=2)\n",
        "mapped = Parallel(n_jobs=2)(delayed(chunks_mapper)(chunk) for chunk in data_chunks)\n",
        "reduced = reduce(reducer, mapped)"
      ],
      "metadata": {
        "colab": {
          "base_uri": "https://localhost:8080/"
        },
        "id": "GpBUZNszyREO",
        "outputId": "402ecdad-655b-49a9-c226-f3695ece7b76"
      },
      "execution_count": 74,
      "outputs": [
        {
          "output_type": "stream",
          "name": "stdout",
          "text": [
            "CPU times: user 118 ms, sys: 3.68 ms, total: 121 ms\n",
            "Wall time: 602 ms\n"
          ]
        }
      ]
    },
    {
      "cell_type": "code",
      "source": [
        "%time max_length = max(large_list_of_strings, key=len)"
      ],
      "metadata": {
        "colab": {
          "base_uri": "https://localhost:8080/"
        },
        "id": "LqQsMgQWw_NU",
        "outputId": "240d5fa5-1cb2-49d9-b7fb-4430bb75f61e"
      },
      "execution_count": 75,
      "outputs": [
        {
          "output_type": "stream",
          "name": "stdout",
          "text": [
            "CPU times: user 154 ms, sys: 0 ns, total: 154 ms\n",
            "Wall time: 161 ms\n"
          ]
        }
      ]
    },
    {
      "cell_type": "code",
      "source": [
        "import json\n",
        "\n",
        "\n",
        "n, mean, M2 = 0, 0.0, 0\n",
        "for path in Path('imdb-user-reviews').glob('**/*'):\n",
        "    if path.is_file() and path.suffix == '.json':\n",
        "        with open(path, 'r') as f:\n",
        "            info = json.load(f)\n",
        "        score = float(info['movieIMDbRating'])\n",
        "        n += 1\n",
        "        delta = score - mean\n",
        "        mean += delta / n\n",
        "        M2 += delta * (score - mean)\n",
        "\n",
        "print(mean, (M2 / n) ** (1/2))"
      ],
      "metadata": {
        "colab": {
          "base_uri": "https://localhost:8080/"
        },
        "id": "5TDm3y1Gp7S_",
        "outputId": "5433c0f9-ea83-4d77-8dde-ae71064c2ccc"
      },
      "execution_count": 76,
      "outputs": [
        {
          "output_type": "stream",
          "name": "stdout",
          "text": [
            "8.03 1.051712888577486\n"
          ]
        }
      ]
    },
    {
      "cell_type": "code",
      "source": [
        "def mapper(path):\n",
        "    if path.is_file() and path.suffix == '.json':\n",
        "        with open(path, 'r') as f:\n",
        "            info = json.load(f)\n",
        "        return (float(info['movieIMDbRating']), )\n",
        "\n",
        "\n",
        "def reducer(score_data1, score_data2):\n",
        "    if score_data1 is None and score_data2 is None:\n",
        "        return None\n",
        "    elif score_data1 is None:\n",
        "        return score_data2\n",
        "    elif score_data2 is None:\n",
        "        return score_data1\n",
        "    else:\n",
        "        scores = []\n",
        "        if len(score_data1) == 1:\n",
        "            n, mean, M2 = 0, 0.0, 0\n",
        "            scores.append(score_data1[0])\n",
        "        else:\n",
        "            n, mean, M2 = score_data1\n",
        "        scores.append(score_data2[0])\n",
        "        for score in scores:\n",
        "            n += 1\n",
        "            delta = score - mean\n",
        "            mean += delta / n\n",
        "            M2 += delta * (score - mean)\n",
        "        return n, mean, M2"
      ],
      "metadata": {
        "id": "Zw58hq9XwYbN"
      },
      "execution_count": 77,
      "outputs": []
    },
    {
      "cell_type": "code",
      "source": [
        "%%time\n",
        "n, mean, M2 = reduce(reducer, map(mapper, Path('imdb-user-reviews').glob('**/*')))\n",
        "print(mean, (M2 / n) ** (1/2))"
      ],
      "metadata": {
        "colab": {
          "base_uri": "https://localhost:8080/"
        },
        "id": "5SO8h3XIwccX",
        "outputId": "6ba7ed58-c074-421f-83cc-a1e7e42bd86e"
      },
      "execution_count": 78,
      "outputs": [
        {
          "output_type": "stream",
          "name": "stdout",
          "text": [
            "8.03 1.051712888577486\n",
            "CPU times: user 3.24 ms, sys: 27 µs, total: 3.27 ms\n",
            "Wall time: 6.28 ms\n"
          ]
        }
      ]
    },
    {
      "cell_type": "code",
      "source": [
        "%%time\n",
        "n, mean, M2 = reduce(reducer, Parallel(n_jobs=2)(delayed(mapper)(path) for path in Path('imdb-user-reviews').glob('**/*')))\n",
        "print(mean, (M2 / n) ** (1/2))"
      ],
      "metadata": {
        "colab": {
          "base_uri": "https://localhost:8080/"
        },
        "id": "3abEXPvC20Tk",
        "outputId": "6478b2e5-8899-4757-9b96-decc06c6059f"
      },
      "execution_count": 79,
      "outputs": [
        {
          "output_type": "stream",
          "name": "stdout",
          "text": [
            "8.03 1.051712888577486\n",
            "CPU times: user 26.6 ms, sys: 1.99 ms, total: 28.6 ms\n",
            "Wall time: 50.1 ms\n"
          ]
        }
      ]
    },
    {
      "cell_type": "code",
      "source": [
        "%%time\n",
        "n, mean, M2 = reduce(reducer, map(mapper, list(Path('imdb-user-reviews').glob('**/*')) * 100_000))\n",
        "print(mean, (M2 / n) ** (1/2))"
      ],
      "metadata": {
        "colab": {
          "base_uri": "https://localhost:8080/"
        },
        "id": "baOOZdm020X_",
        "outputId": "c3c71b10-7524-438e-d4f1-2ad34b0efaee"
      },
      "execution_count": 80,
      "outputs": [
        {
          "output_type": "stream",
          "name": "stdout",
          "text": [
            "8.030000000000062 1.0517128885775677\n",
            "CPU times: user 32.7 s, sys: 14.8 s, total: 47.5 s\n",
            "Wall time: 51.7 s\n"
          ]
        }
      ]
    },
    {
      "cell_type": "code",
      "source": [
        "%%time\n",
        "n, mean, M2 = reduce(reducer, Parallel(n_jobs=2)(delayed(mapper)(path) for path in list(Path('imdb-user-reviews').glob('**/*')) * 100_000))\n",
        "print(mean, (M2 / n) ** (1/2))"
      ],
      "metadata": {
        "colab": {
          "base_uri": "https://localhost:8080/"
        },
        "id": "XwsQdWOh20gL",
        "outputId": "aed1bd65-2b03-4ecd-ca75-3aca0b63fd1a"
      },
      "execution_count": 81,
      "outputs": [
        {
          "output_type": "stream",
          "name": "stdout",
          "text": [
            "8.030000000000062 1.0517128885775677\n",
            "CPU times: user 31.1 s, sys: 405 ms, total: 31.5 s\n",
            "Wall time: 1min 2s\n"
          ]
        }
      ]
    }
  ]
}